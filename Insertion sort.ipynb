{
 "cells": [
  {
   "cell_type": "markdown",
   "metadata": {},
   "source": [
    "### Insertion sort:\n",
    "worst case time complexity: O(n^2)"
   ]
  },
  {
   "cell_type": "code",
   "execution_count": 46,
   "metadata": {},
   "outputs": [],
   "source": [
    "def insertionsort1(arr):\n",
    "    n=len(arr)\n",
    "    for i in range(1,n):\n",
    "            j=0\n",
    "            while  arr[i-j]<arr[i-1-j] and (i-1-j)>=0:\n",
    "                    arr[i-j]=arr[i-j]+arr[i-1-j]\n",
    "                    arr[i-1-j]=arr[i-j]-arr[i-1-j]\n",
    "                    arr[i-j]=arr[i-j]-arr[i-1-j]\n",
    "                    j+=1\n",
    "    return arr    "
   ]
  }
 ],
 "metadata": {
  "kernelspec": {
   "display_name": "Python 3",
   "language": "python",
   "name": "python3"
  },
  "language_info": {
   "codemirror_mode": {
    "name": "ipython",
    "version": 3
   },
   "file_extension": ".py",
   "mimetype": "text/x-python",
   "name": "python",
   "nbconvert_exporter": "python",
   "pygments_lexer": "ipython3",
   "version": "3.7.7"
  }
 },
 "nbformat": 4,
 "nbformat_minor": 4
}
