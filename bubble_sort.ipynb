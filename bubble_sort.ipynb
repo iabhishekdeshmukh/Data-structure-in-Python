{
 "cells": [
  {
   "cell_type": "markdown",
   "metadata": {},
   "source": [
    "### Bubble sort:\n",
    "worst case time complexity: O(n^2) <br> \n",
    "Space complexity: O(1) <br>\n",
    "Requires (n-1) iterations to sort an array. <br>\n",
    "Concept: One of the simplest sorting algorithm which for every element in an array is compared with its adajacent right element and swap if the element is greater.  "
   ]
  },
  {
   "cell_type": "code",
   "execution_count": 199,
   "metadata": {},
   "outputs": [],
   "source": [
    "def bubblesort(arr):\n",
    "    n=len(arr)\n",
    "    for p in range(n-1):    #Number of iterations required\n",
    "        for i in range(0,n-1):\n",
    "            if arr[i]>arr[i+1]:\n",
    "                            arr[i],arr[i+1]=arr[i+1],arr[i]\n",
    "        print(\"Sorted array after {} iteration is \".format(p),arr)            \n",
    "                     "
   ]
  },
  {
   "cell_type": "code",
   "execution_count": 197,
   "metadata": {},
   "outputs": [],
   "source": [
    "arr=[6,19,5,7,3,2,13,0]"
   ]
  },
  {
   "cell_type": "code",
   "execution_count": 198,
   "metadata": {},
   "outputs": [
    {
     "name": "stdout",
     "output_type": "stream",
     "text": [
      "Sorted arry after 0 iteration is  [6, 5, 7, 3, 2, 13, 0, 19]\n",
      "Sorted arry after 1 iteration is  [5, 6, 3, 2, 7, 0, 13, 19]\n",
      "Sorted arry after 2 iteration is  [5, 3, 2, 6, 0, 7, 13, 19]\n",
      "Sorted arry after 3 iteration is  [3, 2, 5, 0, 6, 7, 13, 19]\n",
      "Sorted arry after 4 iteration is  [2, 3, 0, 5, 6, 7, 13, 19]\n",
      "Sorted arry after 5 iteration is  [2, 0, 3, 5, 6, 7, 13, 19]\n",
      "Sorted arry after 6 iteration is  [0, 2, 3, 5, 6, 7, 13, 19]\n"
     ]
    }
   ],
   "source": [
    "bubblesort(arr)\n"
   ]
  }
 ],
 "metadata": {
  "kernelspec": {
   "display_name": "Python 3",
   "language": "python",
   "name": "python3"
  },
  "language_info": {
   "codemirror_mode": {
    "name": "ipython",
    "version": 3
   },
   "file_extension": ".py",
   "mimetype": "text/x-python",
   "name": "python",
   "nbconvert_exporter": "python",
   "pygments_lexer": "ipython3",
   "version": "3.7.7"
  }
 },
 "nbformat": 4,
 "nbformat_minor": 4
}
