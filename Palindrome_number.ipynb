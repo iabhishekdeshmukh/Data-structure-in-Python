{
 "cells": [
  {
   "cell_type": "markdown",
   "metadata": {},
   "source": [
    "Leetcode problem: Palindrome number\n",
    "\n",
    "Returns True if the given number is a Palindrome number."
   ]
  },
  {
   "cell_type": "code",
   "execution_count": 9,
   "metadata": {},
   "outputs": [],
   "source": [
    "class Solution:\n",
    "    def isPalindrome(self, x: int) -> bool:\n",
    "        \n",
    "        if x>=0:         \n",
    "            a=[]\n",
    "            answer=0\n",
    "            x2=x\n",
    "            while x2!=0:\n",
    "                a.append(x2%10)\n",
    "                x2=x2//10\n",
    "            l=len(a)-1    \n",
    "            for i in a:\n",
    "                answer+=(i*(10)**l)\n",
    "                l-=1    \n",
    "            if x==answer: return True   "
   ]
  }
 ],
 "metadata": {
  "kernelspec": {
   "display_name": "Python 3",
   "language": "python",
   "name": "python3"
  },
  "language_info": {
   "codemirror_mode": {
    "name": "ipython",
    "version": 3
   },
   "file_extension": ".py",
   "mimetype": "text/x-python",
   "name": "python",
   "nbconvert_exporter": "python",
   "pygments_lexer": "ipython3",
   "version": "3.7.7"
  }
 },
 "nbformat": 4,
 "nbformat_minor": 4
}
